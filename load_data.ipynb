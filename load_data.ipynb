{
 "cells": [
  {
   "cell_type": "code",
   "execution_count": 1,
   "id": "ea2bc201",
   "metadata": {},
   "outputs": [],
   "source": [
    "import pandas as pd\n",
    "import numpy as np\n",
    "import pyarrow as pa\n",
    "import pyarrow.parquet as pq\n",
    "import os"
   ]
  },
  {
   "cell_type": "code",
   "execution_count": 2,
   "id": "319313de",
   "metadata": {},
   "outputs": [],
   "source": [
    "# Read the Parquet file into an Arrow Table\n",
    "tweets = pq.read_table('data/tweets_light.parquet')\n",
    "retweets = pq.read_table('data/retweets_light.parquet')\n",
    "users = pq.read_table('data/users_tw+rt_light.parquet')\n",
    "\n",
    "# Convert the Arrow Table to a Pandas DataFrame\n",
    "df_tweets = tweets.to_pandas()\n",
    "df_retweets = retweets.to_pandas()\n",
    "df_users = users.to_pandas()"
   ]
  },
  {
   "cell_type": "code",
   "execution_count": null,
   "id": "782475dd",
   "metadata": {},
   "outputs": [],
   "source": [
    "#convert column data types\n",
    "df_tweets['author_id'] = df_tweets['author_id'].astype(int)\n",
    "df_users['id'] = df_users['id'].astype(float)\n",
    "\n",
    "#merge df_tweets and df_users\n",
    "df_users_tweets = pd.merge(df_tweets, df_users, left_on=\"author_id\", right_on=\"id\")"
   ]
  },
  {
   "cell_type": "code",
   "execution_count": null,
   "id": "6d6d1600",
   "metadata": {},
   "outputs": [],
   "source": [
    "df_users_tweets.drop(columns=\"id_y\", inplace = True)\n",
    "df_users_tweets = df_users_tweets.rename(columns={\"created_at_x\":\"tweet_created_at\", \"id_x\":\"original_post_id\", \"created_at_y\":\"account_created_at\", \"name\":\"author_name\", \"username\":\"author_username\"})"
   ]
  },
  {
   "cell_type": "code",
   "execution_count": null,
   "id": "e3aa17b5",
   "metadata": {},
   "outputs": [],
   "source": [
    "#merge df_user_tweets and df_retweets on original_post_id and post_id\n",
    "df = pd.merge(df_users_tweets, df_retweets, left_on=\"original_post_id\", right_on=\"post_id\")\n",
    "df.drop(columns=[\"post_id\", \"url\", \"location\", \"verified\"], inplace = True)"
   ]
  },
  {
   "cell_type": "code",
   "execution_count": null,
   "id": "ae43e11f",
   "metadata": {},
   "outputs": [],
   "source": [
    "#convert column data types\n",
    "df['original_post_id'] = df['original_post_id'].astype(int)\n",
    "df['retweeter_id'] = df['retweeter_id'].astype(int)"
   ]
  },
  {
   "cell_type": "code",
   "execution_count": null,
   "id": "5a8e9186",
   "metadata": {},
   "outputs": [],
   "source": [
    "df = df.drop(columns=['lang', 'text',\n",
    "       'possibly_sensitive', 'referenced_id', 'reference_type',\n",
    "       'public_metrics.like_count', 'public_metrics.quote_count',\n",
    "       'public_metrics.reply_count', 'public_metrics.retweet_count',\n",
    "       'account_created_at', 'description','name'])"
   ]
  },
  {
   "cell_type": "code",
   "execution_count": null,
   "id": "826dbc5d",
   "metadata": {},
   "outputs": [],
   "source": [
    "df.dropna(inplace=True)"
   ]
  },
  {
   "cell_type": "code",
   "execution_count": null,
   "id": "4a7089c0",
   "metadata": {},
   "outputs": [
    {
     "data": {
      "text/html": [
       "<div>\n",
       "<style scoped>\n",
       "    .dataframe tbody tr th:only-of-type {\n",
       "        vertical-align: middle;\n",
       "    }\n",
       "\n",
       "    .dataframe tbody tr th {\n",
       "        vertical-align: top;\n",
       "    }\n",
       "\n",
       "    .dataframe thead th {\n",
       "        text-align: right;\n",
       "    }\n",
       "</style>\n",
       "<table border=\"1\" class=\"dataframe\">\n",
       "  <thead>\n",
       "    <tr style=\"text-align: right;\">\n",
       "      <th></th>\n",
       "      <th>tweet_created_at</th>\n",
       "      <th>original_post_id</th>\n",
       "      <th>author_id</th>\n",
       "      <th>retweeter_id</th>\n",
       "    </tr>\n",
       "  </thead>\n",
       "  <tbody>\n",
       "    <tr>\n",
       "      <th>count</th>\n",
       "      <td>29235029</td>\n",
       "      <td>2.923503e+07</td>\n",
       "      <td>2.923503e+07</td>\n",
       "      <td>2.923503e+07</td>\n",
       "    </tr>\n",
       "    <tr>\n",
       "      <th>mean</th>\n",
       "      <td>2020-06-25 17:59:32.733049</td>\n",
       "      <td>1.276245e+18</td>\n",
       "      <td>1.185610e+17</td>\n",
       "      <td>4.458498e+17</td>\n",
       "    </tr>\n",
       "    <tr>\n",
       "      <th>min</th>\n",
       "      <td>2017-12-31 23:11:09</td>\n",
       "      <td>9.476212e+17</td>\n",
       "      <td>5.893702e+06</td>\n",
       "      <td>1.200000e+01</td>\n",
       "    </tr>\n",
       "    <tr>\n",
       "      <th>25%</th>\n",
       "      <td>2019-03-09 14:13:47</td>\n",
       "      <td>1.104400e+18</td>\n",
       "      <td>1.406026e+07</td>\n",
       "      <td>5.754239e+08</td>\n",
       "    </tr>\n",
       "    <tr>\n",
       "      <th>50%</th>\n",
       "      <td>2020-06-02 07:19:34</td>\n",
       "      <td>1.267752e+18</td>\n",
       "      <td>1.507257e+08</td>\n",
       "      <td>2.895642e+09</td>\n",
       "    </tr>\n",
       "    <tr>\n",
       "      <th>75%</th>\n",
       "      <td>2021-09-21 22:00:00</td>\n",
       "      <td>1.440548e+18</td>\n",
       "      <td>1.024976e+09</td>\n",
       "      <td>9.851892e+17</td>\n",
       "    </tr>\n",
       "    <tr>\n",
       "      <th>max</th>\n",
       "      <td>2022-12-31 22:19:02</td>\n",
       "      <td>1.609328e+18</td>\n",
       "      <td>1.555225e+18</td>\n",
       "      <td>1.666974e+18</td>\n",
       "    </tr>\n",
       "    <tr>\n",
       "      <th>std</th>\n",
       "      <td>NaN</td>\n",
       "      <td>1.928046e+17</td>\n",
       "      <td>3.106293e+17</td>\n",
       "      <td>5.506337e+17</td>\n",
       "    </tr>\n",
       "  </tbody>\n",
       "</table>\n",
       "</div>"
      ],
      "text/plain": [
       "                 tweet_created_at  original_post_id     author_id  \\\n",
       "count                    29235029      2.923503e+07  2.923503e+07   \n",
       "mean   2020-06-25 17:59:32.733049      1.276245e+18  1.185610e+17   \n",
       "min           2017-12-31 23:11:09      9.476212e+17  5.893702e+06   \n",
       "25%           2019-03-09 14:13:47      1.104400e+18  1.406026e+07   \n",
       "50%           2020-06-02 07:19:34      1.267752e+18  1.507257e+08   \n",
       "75%           2021-09-21 22:00:00      1.440548e+18  1.024976e+09   \n",
       "max           2022-12-31 22:19:02      1.609328e+18  1.555225e+18   \n",
       "std                           NaN      1.928046e+17  3.106293e+17   \n",
       "\n",
       "       retweeter_id  \n",
       "count  2.923503e+07  \n",
       "mean   4.458498e+17  \n",
       "min    1.200000e+01  \n",
       "25%    5.754239e+08  \n",
       "50%    2.895642e+09  \n",
       "75%    9.851892e+17  \n",
       "max    1.666974e+18  \n",
       "std    5.506337e+17  "
      ]
     },
     "execution_count": 18,
     "metadata": {},
     "output_type": "execute_result"
    }
   ],
   "source": [
    "df.describe()"
   ]
  },
  {
   "cell_type": "code",
   "execution_count": null,
   "id": "49884d6e",
   "metadata": {},
   "outputs": [
    {
     "name": "stdout",
     "output_type": "stream",
     "text": [
      "df has shape: (29235029, 6)\n"
     ]
    }
   ],
   "source": [
    "print(\"df has shape:\",df.shape)"
   ]
  },
  {
   "cell_type": "code",
   "execution_count": null,
   "id": "6939563c",
   "metadata": {},
   "outputs": [
    {
     "data": {
      "text/html": [
       "<div>\n",
       "<style scoped>\n",
       "    .dataframe tbody tr th:only-of-type {\n",
       "        vertical-align: middle;\n",
       "    }\n",
       "\n",
       "    .dataframe tbody tr th {\n",
       "        vertical-align: top;\n",
       "    }\n",
       "\n",
       "    .dataframe thead th {\n",
       "        text-align: right;\n",
       "    }\n",
       "</style>\n",
       "<table border=\"1\" class=\"dataframe\">\n",
       "  <thead>\n",
       "    <tr style=\"text-align: right;\">\n",
       "      <th></th>\n",
       "      <th>tweet_created_at</th>\n",
       "      <th>original_post_id</th>\n",
       "      <th>author_id</th>\n",
       "      <th>author_name</th>\n",
       "      <th>author_username</th>\n",
       "      <th>retweeter_id</th>\n",
       "    </tr>\n",
       "  </thead>\n",
       "  <tbody>\n",
       "    <tr>\n",
       "      <th>0</th>\n",
       "      <td>2018-12-31 22:46:18</td>\n",
       "      <td>1079886497279561728</td>\n",
       "      <td>622354597</td>\n",
       "      <td>Salvo Di Grazia</td>\n",
       "      <td>MedBunker</td>\n",
       "      <td>951848540</td>\n",
       "    </tr>\n",
       "    <tr>\n",
       "      <th>1</th>\n",
       "      <td>2018-12-31 22:46:18</td>\n",
       "      <td>1079886497279561728</td>\n",
       "      <td>622354597</td>\n",
       "      <td>Salvo Di Grazia</td>\n",
       "      <td>MedBunker</td>\n",
       "      <td>135554444</td>\n",
       "    </tr>\n",
       "    <tr>\n",
       "      <th>2</th>\n",
       "      <td>2018-12-31 22:46:18</td>\n",
       "      <td>1079886497279561728</td>\n",
       "      <td>622354597</td>\n",
       "      <td>Salvo Di Grazia</td>\n",
       "      <td>MedBunker</td>\n",
       "      <td>433418060</td>\n",
       "    </tr>\n",
       "    <tr>\n",
       "      <th>3</th>\n",
       "      <td>2018-12-31 22:46:18</td>\n",
       "      <td>1079886497279561728</td>\n",
       "      <td>622354597</td>\n",
       "      <td>Salvo Di Grazia</td>\n",
       "      <td>MedBunker</td>\n",
       "      <td>1668533642</td>\n",
       "    </tr>\n",
       "    <tr>\n",
       "      <th>4</th>\n",
       "      <td>2018-12-31 22:46:18</td>\n",
       "      <td>1079886497279561728</td>\n",
       "      <td>622354597</td>\n",
       "      <td>Salvo Di Grazia</td>\n",
       "      <td>MedBunker</td>\n",
       "      <td>1623208790</td>\n",
       "    </tr>\n",
       "  </tbody>\n",
       "</table>\n",
       "</div>"
      ],
      "text/plain": [
       "     tweet_created_at     original_post_id  author_id      author_name  \\\n",
       "0 2018-12-31 22:46:18  1079886497279561728  622354597  Salvo Di Grazia   \n",
       "1 2018-12-31 22:46:18  1079886497279561728  622354597  Salvo Di Grazia   \n",
       "2 2018-12-31 22:46:18  1079886497279561728  622354597  Salvo Di Grazia   \n",
       "3 2018-12-31 22:46:18  1079886497279561728  622354597  Salvo Di Grazia   \n",
       "4 2018-12-31 22:46:18  1079886497279561728  622354597  Salvo Di Grazia   \n",
       "\n",
       "  author_username  retweeter_id  \n",
       "0       MedBunker     951848540  \n",
       "1       MedBunker     135554444  \n",
       "2       MedBunker     433418060  \n",
       "3       MedBunker    1668533642  \n",
       "4       MedBunker    1623208790  "
      ]
     },
     "execution_count": 22,
     "metadata": {},
     "output_type": "execute_result"
    }
   ],
   "source": [
    "df.head()"
   ]
  },
  {
   "cell_type": "code",
   "execution_count": null,
   "id": "eb1f9219",
   "metadata": {},
   "outputs": [
    {
     "name": "stdout",
     "output_type": "stream",
     "text": [
      "Saving df to checkpoint...\n"
     ]
    }
   ],
   "source": [
    "checkpoint_path = \"data/df_checkpoint.parquet\"\n",
    "\n",
    "if os.path.exists(checkpoint_path):\n",
    "    print(\"Loading df from checkpoint...\")\n",
    "    df = pd.read_parquet(checkpoint_path)\n",
    "else:\n",
    "    print(\"Saving df to checkpoint...\")\n",
    "    df.to_parquet(checkpoint_path)"
   ]
  }
 ],
 "metadata": {
  "kernelspec": {
   "display_name": "base",
   "language": "python",
   "name": "python3"
  },
  "language_info": {
   "codemirror_mode": {
    "name": "ipython",
    "version": 3
   },
   "file_extension": ".py",
   "mimetype": "text/x-python",
   "name": "python",
   "nbconvert_exporter": "python",
   "pygments_lexer": "ipython3",
   "version": "3.12.2"
  }
 },
 "nbformat": 4,
 "nbformat_minor": 5
}
